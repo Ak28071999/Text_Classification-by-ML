{
 "cells": [
  {
   "cell_type": "code",
   "execution_count": 145,
   "id": "4d62c614",
   "metadata": {},
   "outputs": [],
   "source": [
    "\n",
    "import sys\n",
    "import pandas as pd\n",
    "import nltk\n",
    "from sklearn.metrics import classification_report\n",
    "#Data Preprocessing\n",
    "import html\n",
    "import numpy as np\n",
    "import re\n",
    "import warnings\n",
    "warnings.filterwarnings('ignore')\n",
    "from nltk.corpus import stopwords\n",
    "from nltk.tokenize import word_tokenize"
   ]
  },
  {
   "cell_type": "code",
   "execution_count": 146,
   "id": "fb1df617",
   "metadata": {},
   "outputs": [
    {
     "data": {
      "text/html": [
       "<div>\n",
       "<style scoped>\n",
       "    .dataframe tbody tr th:only-of-type {\n",
       "        vertical-align: middle;\n",
       "    }\n",
       "\n",
       "    .dataframe tbody tr th {\n",
       "        vertical-align: top;\n",
       "    }\n",
       "\n",
       "    .dataframe thead th {\n",
       "        text-align: right;\n",
       "    }\n",
       "</style>\n",
       "<table border=\"1\" class=\"dataframe\">\n",
       "  <thead>\n",
       "    <tr style=\"text-align: right;\">\n",
       "      <th></th>\n",
       "      <th>review_id</th>\n",
       "      <th>text</th>\n",
       "      <th>verified</th>\n",
       "      <th>review_score</th>\n",
       "      <th>product_category</th>\n",
       "    </tr>\n",
       "  </thead>\n",
       "  <tbody>\n",
       "    <tr>\n",
       "      <th>0</th>\n",
       "      <td>product_review_000000</td>\n",
       "      <td>I had received my copy of this new version of ...</td>\n",
       "      <td>True</td>\n",
       "      <td>3.0</td>\n",
       "      <td>video_games</td>\n",
       "    </tr>\n",
       "    <tr>\n",
       "      <th>1</th>\n",
       "      <td>product_review_000001</td>\n",
       "      <td>That ever since i purchased my DS when it was ...</td>\n",
       "      <td>False</td>\n",
       "      <td>5.0</td>\n",
       "      <td>video_games</td>\n",
       "    </tr>\n",
       "    <tr>\n",
       "      <th>2</th>\n",
       "      <td>product_review_000002</td>\n",
       "      <td>Simple, and just a bit goes a long way..</td>\n",
       "      <td>True</td>\n",
       "      <td>5.0</td>\n",
       "      <td>musical_instruments</td>\n",
       "    </tr>\n",
       "    <tr>\n",
       "      <th>3</th>\n",
       "      <td>product_review_000003</td>\n",
       "      <td>I have not played any of the other games in th...</td>\n",
       "      <td>True</td>\n",
       "      <td>4.0</td>\n",
       "      <td>video_games</td>\n",
       "    </tr>\n",
       "    <tr>\n",
       "      <th>4</th>\n",
       "      <td>product_review_000004</td>\n",
       "      <td>i got it quick and it was in great shape works...</td>\n",
       "      <td>True</td>\n",
       "      <td>5.0</td>\n",
       "      <td>video_games</td>\n",
       "    </tr>\n",
       "  </tbody>\n",
       "</table>\n",
       "</div>"
      ],
      "text/plain": [
       "               review_id                                               text  \\\n",
       "0  product_review_000000  I had received my copy of this new version of ...   \n",
       "1  product_review_000001  That ever since i purchased my DS when it was ...   \n",
       "2  product_review_000002          Simple, and just a bit goes a long way..    \n",
       "3  product_review_000003  I have not played any of the other games in th...   \n",
       "4  product_review_000004  i got it quick and it was in great shape works...   \n",
       "\n",
       "  verified  review_score     product_category  \n",
       "0     True           3.0          video_games  \n",
       "1    False           5.0          video_games  \n",
       "2     True           5.0  musical_instruments  \n",
       "3     True           4.0          video_games  \n",
       "4     True           5.0          video_games  "
      ]
     },
     "execution_count": 146,
     "metadata": {},
     "output_type": "execute_result"
    }
   ],
   "source": [
    "df = pd.read_csv(\"processed_reviews_split_surnamesG_minimal.csv\")\n",
    "df.head()\n"
   ]
  },
  {
   "cell_type": "code",
   "execution_count": 147,
   "id": "de6dd316",
   "metadata": {},
   "outputs": [],
   "source": [
    "percent_missing = df.isnull().sum() * 100 / len(df)\n",
    "missing_value_df = pd.DataFrame({'column_name': df.columns,\n",
    "                                 'percent_missing': percent_missing})"
   ]
  },
  {
   "cell_type": "code",
   "execution_count": 148,
   "id": "b34af38e",
   "metadata": {},
   "outputs": [
    {
     "data": {
      "text/plain": [
       "<AxesSubplot:>"
      ]
     },
     "execution_count": 148,
     "metadata": {},
     "output_type": "execute_result"
    },
    {
     "data": {
      "image/png": "[encoded data removed]",
      "text/plain": [
       "<Figure size 720x720 with 1 Axes>"
      ]
     },
     "metadata": {
      "needs_background": "light"
     },
     "output_type": "display_data"
    }
   ],
   "source": [
    "#missing values percentage plot for all the features\n",
    "import matplotlib.pyplot as plt\n",
    "Miss_val = df.isna().sum()/df.shape[0]\n",
    "Miss_val.sort_values(ascending=False, inplace=True)\n",
    "Miss_val\n",
    "plt.figure(figsize=(10,10))\n",
    "Miss_val.plot.bar()"
   ]
  },
  {
   "cell_type": "code",
   "execution_count": null,
   "id": "1b2d1059",
   "metadata": {},
   "outputs": [],
   "source": []
  },
  {
   "cell_type": "code",
   "execution_count": 149,
   "id": "199241b1",
   "metadata": {},
   "outputs": [],
   "source": [
    "drp=df[df.isnull().any(axis=1)]\n",
    "idd=drp['review_id']"
   ]
  },
  {
   "cell_type": "code",
   "execution_count": 150,
   "id": "428c9e80",
   "metadata": {},
   "outputs": [],
   "source": [
    "idd=list(idd)"
   ]
  },
  {
   "cell_type": "code",
   "execution_count": 151,
   "id": "cb09ae98",
   "metadata": {},
   "outputs": [],
   "source": [
    "l=[]\n",
    "for i in df['review_id']:\n",
    "    if i in idd:\n",
    "        exc='1 reason = missing'\n",
    "        l.append(exc)\n",
    "    else:\n",
    "        exc='0 reason = complete rows'\n",
    "        l.append(exc)"
   ]
  },
  {
   "cell_type": "code",
   "execution_count": 152,
   "id": "fb3b45ea",
   "metadata": {},
   "outputs": [],
   "source": [
    "exclusivedf=df.copy()\n",
    "exclusivedf['excluded']=l"
   ]
  },
  {
   "cell_type": "code",
   "execution_count": 153,
   "id": "b0e9ae4d",
   "metadata": {},
   "outputs": [],
   "source": [
    "exclusivedf.to_csv('exclusivedataset.csv')"
   ]
  },
  {
   "cell_type": "code",
   "execution_count": 154,
   "id": "aa6f8c63",
   "metadata": {},
   "outputs": [
    {
     "data": {
      "text/html": [
       "<div>\n",
       "<style scoped>\n",
       "    .dataframe tbody tr th:only-of-type {\n",
       "        vertical-align: middle;\n",
       "    }\n",
       "\n",
       "    .dataframe tbody tr th {\n",
       "        vertical-align: top;\n",
       "    }\n",
       "\n",
       "    .dataframe thead th {\n",
       "        text-align: right;\n",
       "    }\n",
       "</style>\n",
       "<table border=\"1\" class=\"dataframe\">\n",
       "  <thead>\n",
       "    <tr style=\"text-align: right;\">\n",
       "      <th></th>\n",
       "      <th>review_id</th>\n",
       "      <th>text</th>\n",
       "      <th>verified</th>\n",
       "      <th>review_score</th>\n",
       "      <th>product_category</th>\n",
       "    </tr>\n",
       "  </thead>\n",
       "  <tbody>\n",
       "    <tr>\n",
       "      <th>0</th>\n",
       "      <td>product_review_000000</td>\n",
       "      <td>I had received my copy of this new version of ...</td>\n",
       "      <td>True</td>\n",
       "      <td>3.0</td>\n",
       "      <td>video_games</td>\n",
       "    </tr>\n",
       "    <tr>\n",
       "      <th>1</th>\n",
       "      <td>product_review_000001</td>\n",
       "      <td>That ever since i purchased my DS when it was ...</td>\n",
       "      <td>False</td>\n",
       "      <td>5.0</td>\n",
       "      <td>video_games</td>\n",
       "    </tr>\n",
       "    <tr>\n",
       "      <th>2</th>\n",
       "      <td>product_review_000002</td>\n",
       "      <td>Simple, and just a bit goes a long way..</td>\n",
       "      <td>True</td>\n",
       "      <td>5.0</td>\n",
       "      <td>musical_instruments</td>\n",
       "    </tr>\n",
       "    <tr>\n",
       "      <th>3</th>\n",
       "      <td>product_review_000003</td>\n",
       "      <td>I have not played any of the other games in th...</td>\n",
       "      <td>True</td>\n",
       "      <td>4.0</td>\n",
       "      <td>video_games</td>\n",
       "    </tr>\n",
       "    <tr>\n",
       "      <th>4</th>\n",
       "      <td>product_review_000004</td>\n",
       "      <td>i got it quick and it was in great shape works...</td>\n",
       "      <td>True</td>\n",
       "      <td>5.0</td>\n",
       "      <td>video_games</td>\n",
       "    </tr>\n",
       "    <tr>\n",
       "      <th>...</th>\n",
       "      <td>...</td>\n",
       "      <td>...</td>\n",
       "      <td>...</td>\n",
       "      <td>...</td>\n",
       "      <td>...</td>\n",
       "    </tr>\n",
       "    <tr>\n",
       "      <th>31875</th>\n",
       "      <td>product_review_032913</td>\n",
       "      <td>I've been playing Skyrim on the PS3 for about ...</td>\n",
       "      <td>False</td>\n",
       "      <td>-1.0</td>\n",
       "      <td>video_games</td>\n",
       "    </tr>\n",
       "    <tr>\n",
       "      <th>31876</th>\n",
       "      <td>product_review_032914</td>\n",
       "      <td>If you are looking for the overall best PGA To...</td>\n",
       "      <td>True</td>\n",
       "      <td>5.0</td>\n",
       "      <td>video_games</td>\n",
       "    </tr>\n",
       "    <tr>\n",
       "      <th>31877</th>\n",
       "      <td>product_review_032915</td>\n",
       "      <td>Another figure to add to your Disney Infinity ...</td>\n",
       "      <td>True</td>\n",
       "      <td>5.0</td>\n",
       "      <td>video_games</td>\n",
       "    </tr>\n",
       "    <tr>\n",
       "      <th>31878</th>\n",
       "      <td>product_review_032916</td>\n",
       "      <td>Another glad to find!  Have looked and looked ...</td>\n",
       "      <td>True</td>\n",
       "      <td>5.0</td>\n",
       "      <td>video_games</td>\n",
       "    </tr>\n",
       "    <tr>\n",
       "      <th>31879</th>\n",
       "      <td>product_review_032917</td>\n",
       "      <td>like the game.</td>\n",
       "      <td>True</td>\n",
       "      <td>4.0</td>\n",
       "      <td>video_games</td>\n",
       "    </tr>\n",
       "  </tbody>\n",
       "</table>\n",
       "<p>31880 rows × 5 columns</p>\n",
       "</div>"
      ],
      "text/plain": [
       "                   review_id  \\\n",
       "0      product_review_000000   \n",
       "1      product_review_000001   \n",
       "2      product_review_000002   \n",
       "3      product_review_000003   \n",
       "4      product_review_000004   \n",
       "...                      ...   \n",
       "31875  product_review_032913   \n",
       "31876  product_review_032914   \n",
       "31877  product_review_032915   \n",
       "31878  product_review_032916   \n",
       "31879  product_review_032917   \n",
       "\n",
       "                                                    text verified  \\\n",
       "0      I had received my copy of this new version of ...     True   \n",
       "1      That ever since i purchased my DS when it was ...    False   \n",
       "2              Simple, and just a bit goes a long way..      True   \n",
       "3      I have not played any of the other games in th...     True   \n",
       "4      i got it quick and it was in great shape works...     True   \n",
       "...                                                  ...      ...   \n",
       "31875  I've been playing Skyrim on the PS3 for about ...    False   \n",
       "31876  If you are looking for the overall best PGA To...     True   \n",
       "31877  Another figure to add to your Disney Infinity ...     True   \n",
       "31878  Another glad to find!  Have looked and looked ...     True   \n",
       "31879                                    like the game.      True   \n",
       "\n",
       "       review_score     product_category  \n",
       "0               3.0          video_games  \n",
       "1               5.0          video_games  \n",
       "2               5.0  musical_instruments  \n",
       "3               4.0          video_games  \n",
       "4               5.0          video_games  \n",
       "...             ...                  ...  \n",
       "31875          -1.0          video_games  \n",
       "31876           5.0          video_games  \n",
       "31877           5.0          video_games  \n",
       "31878           5.0          video_games  \n",
       "31879           4.0          video_games  \n",
       "\n",
       "[31880 rows x 5 columns]"
      ]
     },
     "execution_count": 154,
     "metadata": {},
     "output_type": "execute_result"
    }
   ],
   "source": [
    "#dropping  missing values rows\n",
    "df = df.dropna(axis=0)\n",
    "df=df.reset_index(drop=True)\n",
    "df"
   ]
  },
  {
   "cell_type": "code",
   "execution_count": null,
   "id": "87df79f8",
   "metadata": {},
   "outputs": [],
   "source": [
    " "
   ]
  },
  {
   "cell_type": "markdown",
   "id": "bcc694b5",
   "metadata": {},
   "source": [
    "# replacing null values with mode for object type features"
   ]
  },
  {
   "cell_type": "markdown",
   "id": "6687eed8",
   "metadata": {},
   "source": [
    "# Cleaning the data"
   ]
  },
  {
   "cell_type": "markdown",
   "id": "4d04007f",
   "metadata": {},
   "source": [
    "# Let's first clean the data, remove stopwords etc and perform basic pre-processing\n",
    "\n",
    "Removing weird spaces"
   ]
  },
  {
   "cell_type": "code",
   "execution_count": 155,
   "id": "016e5bfd",
   "metadata": {},
   "outputs": [],
   "source": [
    "def remove_spaces(text):\n",
    "    text=text.strip()\n",
    "    text=text.split()\n",
    "    return ' '.join(text)"
   ]
  },
  {
   "cell_type": "markdown",
   "id": "ff4174b8",
   "metadata": {},
   "source": [
    "# Contraction"
   ]
  },
  {
   "cell_type": "code",
   "execution_count": 156,
   "id": "49261454",
   "metadata": {},
   "outputs": [],
   "source": [
    "contraction = {'cause':'because',\n",
    "              'aint': 'am not',\n",
    "              'aren\\'t': 'are not'}\n",
    "\n",
    "def mapping_replacer(x,dic):\n",
    "    for words in dic.keys():\n",
    "        if ' ' + words + ' ' in x:\n",
    "            x=x.replace(' '+ words +' ' ,' '+dic[words]+' ' )\n",
    "    return x"
   ]
  },
  {
   "cell_type": "markdown",
   "id": "f69d4ed4",
   "metadata": {},
   "source": [
    "# Stemming, lemmetisation and tokenisation"
   ]
  },
  {
   "cell_type": "code",
   "execution_count": 157,
   "id": "7e3c07c3",
   "metadata": {},
   "outputs": [],
   "source": [
    "\n",
    "from nltk.tokenize import word_tokenize\n",
    "from nltk.stem.wordnet import WordNetLemmatizer\n",
    "from nltk.stem.lancaster import LancasterStemmer\n",
    "\n",
    "nltk.LancasterStemmer\n",
    "ls = LancasterStemmer()\n",
    "lem = WordNetLemmatizer()\n",
    "def lexicon_normalization(text):\n",
    "    words = word_tokenize(text) \n",
    "    \n",
    "    \n",
    "    # 1- Stemming\n",
    "    words_stem = [ls.stem(w) for w in words]\n",
    "    \n",
    "    # 2- Lemmatization\n",
    "    words_lem = [lem.lemmatize(w) for w in words_stem]\n",
    "    return words_lem\n"
   ]
  },
  {
   "cell_type": "markdown",
   "id": "8d7d46f8",
   "metadata": {},
   "source": [
    "# Removing links, brackets, numbers, punctuations etc."
   ]
  },
  {
   "cell_type": "code",
   "execution_count": 158,
   "id": "ddd6c416",
   "metadata": {},
   "outputs": [],
   "source": [
    "def clean_text(text):\n",
    "    '''Make text lowercase, remove text in square brackets,remove links,remove punctuation\n",
    "    and remove words containing numbers.'''\n",
    "    text = str(text).lower()\n",
    "    text = re.sub('\\[.*?\\]', '', text)\n",
    "    text = re.sub('https?://\\S+|www\\.\\S+', '', text)\n",
    "    text = re.sub('<.*?>+', '', text)\n",
    "    text = re.sub('_', '', text)\n",
    "    text = re.sub('\\n', '', text)\n",
    "    text = re.sub('\\w*\\d\\w*', '', text)\n",
    "    text = re.sub('\\'','', text)\n",
    "    \n",
    "    return text"
   ]
  },
  {
   "cell_type": "markdown",
   "id": "d780b186",
   "metadata": {},
   "source": [
    "# Handling stopwords"
   ]
  },
  {
   "cell_type": "code",
   "execution_count": 159,
   "id": "28a5d027",
   "metadata": {},
   "outputs": [],
   "source": [
    "from collections import Counter\n",
    "def remove_stopword(text):\n",
    "    stop_words = stopwords.words('english')\n",
    "    stopwords_dict = Counter(stop_words)\n",
    "    text = ' '.join([word for word in text.split() if word not in stopwords_dict])\n",
    "    return text"
   ]
  },
  {
   "cell_type": "markdown",
   "id": "363bbb35",
   "metadata": {},
   "source": [
    "# Tokenisation"
   ]
  },
  {
   "cell_type": "code",
   "execution_count": 160,
   "id": "3c29946f",
   "metadata": {},
   "outputs": [],
   "source": [
    "def tokenise(text):\n",
    "    words = word_tokenize(text) \n",
    "    return words"
   ]
  },
  {
   "cell_type": "markdown",
   "id": "f4f7eb87",
   "metadata": {},
   "source": [
    "# Applying data cleaning steps to data\n",
    "Cleaning Regex Expressions from data"
   ]
  },
  {
   "cell_type": "code",
   "execution_count": 161,
   "id": "d3c94702",
   "metadata": {},
   "outputs": [],
   "source": [
    "import re\n",
    "df['text'] = df['text'].map(lambda x: re.sub(r'\\W+', ' ', str(x)))\n",
    "df['text'] = df['text'].replace(r'\\W+', ' ', regex=True)"
   ]
  },
  {
   "cell_type": "code",
   "execution_count": 162,
   "id": "454183ec",
   "metadata": {},
   "outputs": [],
   "source": [
    "df['text']=df['text'].apply(lambda x: mapping_replacer(x, contraction))"
   ]
  },
  {
   "cell_type": "code",
   "execution_count": 163,
   "id": "bbed0cc0",
   "metadata": {},
   "outputs": [],
   "source": [
    "df['text']=df['text'].apply(lambda x:clean_text(x))"
   ]
  },
  {
   "cell_type": "code",
   "execution_count": 164,
   "id": "14362e60",
   "metadata": {},
   "outputs": [],
   "source": [
    "df['text']=df['text'].apply(lambda x: remove_stopword(x))"
   ]
  },
  {
   "cell_type": "code",
   "execution_count": 165,
   "id": "619eab79",
   "metadata": {},
   "outputs": [],
   "source": [
    "df['text']=df['text'].apply(lambda x: lexicon_normalization(x))"
   ]
  },
  {
   "cell_type": "markdown",
   "id": "394792dc",
   "metadata": {},
   "source": [
    "# Finding the most Common words in our Text"
   ]
  },
  {
   "cell_type": "markdown",
   "id": "00471eb0",
   "metadata": {},
   "source": [
    "# Common words for video product category"
   ]
  },
  {
   "cell_type": "code",
   "execution_count": 166,
   "id": "adac24b4",
   "metadata": {},
   "outputs": [],
   "source": [
    "video=df[df['product_category']=='video_games']"
   ]
  },
  {
   "cell_type": "code",
   "execution_count": 177,
   "id": "feb4e1bc",
   "metadata": {},
   "outputs": [
    {
     "data": {
      "text/html": [
       "<style type=\"text/css\">\n",
       "#T_d7218_row0_col1 {\n",
       "  background-color: #08306b;\n",
       "  color: #f1f1f1;\n",
       "}\n",
       "#T_d7218_row1_col1 {\n",
       "  background-color: #b9d6ea;\n",
       "  color: #000000;\n",
       "}\n",
       "#T_d7218_row2_col1 {\n",
       "  background-color: #d7e6f5;\n",
       "  color: #000000;\n",
       "}\n",
       "#T_d7218_row3_col1 {\n",
       "  background-color: #ddeaf7;\n",
       "  color: #000000;\n",
       "}\n",
       "#T_d7218_row4_col1 {\n",
       "  background-color: #dfebf7;\n",
       "  color: #000000;\n",
       "}\n",
       "#T_d7218_row5_col1 {\n",
       "  background-color: #e5eff9;\n",
       "  color: #000000;\n",
       "}\n",
       "#T_d7218_row6_col1, #T_d7218_row7_col1 {\n",
       "  background-color: #e7f0fa;\n",
       "  color: #000000;\n",
       "}\n",
       "#T_d7218_row8_col1 {\n",
       "  background-color: #e8f1fa;\n",
       "  color: #000000;\n",
       "}\n",
       "#T_d7218_row9_col1 {\n",
       "  background-color: #eaf3fb;\n",
       "  color: #000000;\n",
       "}\n",
       "#T_d7218_row10_col1 {\n",
       "  background-color: #ebf3fb;\n",
       "  color: #000000;\n",
       "}\n",
       "#T_d7218_row11_col1 {\n",
       "  background-color: #eef5fc;\n",
       "  color: #000000;\n",
       "}\n",
       "#T_d7218_row12_col1 {\n",
       "  background-color: #f2f8fd;\n",
       "  color: #000000;\n",
       "}\n",
       "#T_d7218_row13_col1 {\n",
       "  background-color: #f4f9fe;\n",
       "  color: #000000;\n",
       "}\n",
       "#T_d7218_row14_col1 {\n",
       "  background-color: #f5fafe;\n",
       "  color: #000000;\n",
       "}\n",
       "#T_d7218_row15_col1, #T_d7218_row16_col1, #T_d7218_row17_col1, #T_d7218_row18_col1, #T_d7218_row19_col1 {\n",
       "  background-color: #f7fbff;\n",
       "  color: #000000;\n",
       "}\n",
       "</style>\n",
       "<table id=\"T_d7218_\">\n",
       "  <thead>\n",
       "    <tr>\n",
       "      <th class=\"blank level0\" >&nbsp;</th>\n",
       "      <th class=\"col_heading level0 col0\" >Common_words_video_categotry</th>\n",
       "      <th class=\"col_heading level0 col1\" >count</th>\n",
       "    </tr>\n",
       "  </thead>\n",
       "  <tbody>\n",
       "    <tr>\n",
       "      <th id=\"T_d7218_level0_row0\" class=\"row_heading level0 row0\" >0</th>\n",
       "      <td id=\"T_d7218_row0_col0\" class=\"data row0 col0\" >gam</td>\n",
       "      <td id=\"T_d7218_row0_col1\" class=\"data row0 col1\" >69209</td>\n",
       "    </tr>\n",
       "    <tr>\n",
       "      <th id=\"T_d7218_level0_row1\" class=\"row_heading level0 row1\" >1</th>\n",
       "      <td id=\"T_d7218_row1_col0\" class=\"data row1 col0\" >play</td>\n",
       "      <td id=\"T_d7218_row1_col1\" class=\"data row1 col1\" >24552</td>\n",
       "    </tr>\n",
       "    <tr>\n",
       "      <th id=\"T_d7218_level0_row2\" class=\"row_heading level0 row2\" >2</th>\n",
       "      <td id=\"T_d7218_row2_col0\" class=\"data row2 col0\" >lik</td>\n",
       "      <td id=\"T_d7218_row2_col1\" class=\"data row2 col1\" >16348</td>\n",
       "    </tr>\n",
       "    <tr>\n",
       "      <th id=\"T_d7218_level0_row3\" class=\"row_heading level0 row3\" >3</th>\n",
       "      <td id=\"T_d7218_row3_col0\" class=\"data row3 col0\" >on</td>\n",
       "      <td id=\"T_d7218_row3_col1\" class=\"data row3 col1\" >14409</td>\n",
       "    </tr>\n",
       "    <tr>\n",
       "      <th id=\"T_d7218_level0_row4\" class=\"row_heading level0 row4\" >4</th>\n",
       "      <td id=\"T_d7218_row4_col0\" class=\"data row4 col0\" >get</td>\n",
       "      <td id=\"T_d7218_row4_col1\" class=\"data row4 col1\" >13838</td>\n",
       "    </tr>\n",
       "    <tr>\n",
       "      <th id=\"T_d7218_level0_row5\" class=\"row_heading level0 row5\" >5</th>\n",
       "      <td id=\"T_d7218_row5_col0\" class=\"data row5 col0\" >gre</td>\n",
       "      <td id=\"T_d7218_row5_col1\" class=\"data row5 col1\" >11972</td>\n",
       "    </tr>\n",
       "    <tr>\n",
       "      <th id=\"T_d7218_level0_row6\" class=\"row_heading level0 row6\" >6</th>\n",
       "      <td id=\"T_d7218_row6_col0\" class=\"data row6 col0\" >u</td>\n",
       "      <td id=\"T_d7218_row6_col1\" class=\"data row6 col1\" >11496</td>\n",
       "    </tr>\n",
       "    <tr>\n",
       "      <th id=\"T_d7218_level0_row7\" class=\"row_heading level0 row7\" >7</th>\n",
       "      <td id=\"T_d7218_row7_col0\" class=\"data row7 col0\" >real</td>\n",
       "      <td id=\"T_d7218_row7_col1\" class=\"data row7 col1\" >11458</td>\n",
       "    </tr>\n",
       "    <tr>\n",
       "      <th id=\"T_d7218_level0_row8\" class=\"row_heading level0 row8\" >8</th>\n",
       "      <td id=\"T_d7218_row8_col0\" class=\"data row8 col0\" >tim</td>\n",
       "      <td id=\"T_d7218_row8_col1\" class=\"data row8 col1\" >10828</td>\n",
       "    </tr>\n",
       "    <tr>\n",
       "      <th id=\"T_d7218_level0_row9\" class=\"row_heading level0 row9\" >9</th>\n",
       "      <td id=\"T_d7218_row9_col0\" class=\"data row9 col0\" >good</td>\n",
       "      <td id=\"T_d7218_row9_col1\" class=\"data row9 col1\" >10195</td>\n",
       "    </tr>\n",
       "    <tr>\n",
       "      <th id=\"T_d7218_level0_row10\" class=\"row_heading level0 row10\" >10</th>\n",
       "      <td id=\"T_d7218_row10_col0\" class=\"data row10 col0\" >ev</td>\n",
       "      <td id=\"T_d7218_row10_col1\" class=\"data row10 col1\" >9859</td>\n",
       "    </tr>\n",
       "    <tr>\n",
       "      <th id=\"T_d7218_level0_row11\" class=\"row_heading level0 row11\" >11</th>\n",
       "      <td id=\"T_d7218_row11_col0\" class=\"data row11 col0\" >fun</td>\n",
       "      <td id=\"T_d7218_row11_col1\" class=\"data row11 col1\" >8880</td>\n",
       "    </tr>\n",
       "    <tr>\n",
       "      <th id=\"T_d7218_level0_row12\" class=\"row_heading level0 row12\" >12</th>\n",
       "      <td id=\"T_d7218_row12_col0\" class=\"data row12 col0\" >control</td>\n",
       "      <td id=\"T_d7218_row12_col1\" class=\"data row12 col1\" >7668</td>\n",
       "    </tr>\n",
       "    <tr>\n",
       "      <th id=\"T_d7218_level0_row13\" class=\"row_heading level0 row13\" >13</th>\n",
       "      <td id=\"T_d7218_row13_col0\" class=\"data row13 col0\" >mak</td>\n",
       "      <td id=\"T_d7218_row13_col1\" class=\"data row13 col1\" >7262</td>\n",
       "    </tr>\n",
       "    <tr>\n",
       "      <th id=\"T_d7218_level0_row14\" class=\"row_heading level0 row14\" >14</th>\n",
       "      <td id=\"T_d7218_row14_col0\" class=\"data row14 col0\" >much</td>\n",
       "      <td id=\"T_d7218_row14_col1\" class=\"data row14 col1\" >6714</td>\n",
       "    </tr>\n",
       "    <tr>\n",
       "      <th id=\"T_d7218_level0_row15\" class=\"row_heading level0 row15\" >15</th>\n",
       "      <td id=\"T_d7218_row15_col0\" class=\"data row15 col0\" >wel</td>\n",
       "      <td id=\"T_d7218_row15_col1\" class=\"data row15 col1\" >6356</td>\n",
       "    </tr>\n",
       "    <tr>\n",
       "      <th id=\"T_d7218_level0_row16\" class=\"row_heading level0 row16\" >16</th>\n",
       "      <td id=\"T_d7218_row16_col0\" class=\"data row16 col0\" >would</td>\n",
       "      <td id=\"T_d7218_row16_col1\" class=\"data row16 col1\" >6265</td>\n",
       "    </tr>\n",
       "    <tr>\n",
       "      <th id=\"T_d7218_level0_row17\" class=\"row_heading level0 row17\" >17</th>\n",
       "      <td id=\"T_d7218_row17_col0\" class=\"data row17 col0\" >look</td>\n",
       "      <td id=\"T_d7218_row17_col1\" class=\"data row17 col1\" >6146</td>\n",
       "    </tr>\n",
       "    <tr>\n",
       "      <th id=\"T_d7218_level0_row18\" class=\"row_heading level0 row18\" >18</th>\n",
       "      <td id=\"T_d7218_row18_col0\" class=\"data row18 col0\" >also</td>\n",
       "      <td id=\"T_d7218_row18_col1\" class=\"data row18 col1\" >6136</td>\n",
       "    </tr>\n",
       "    <tr>\n",
       "      <th id=\"T_d7218_level0_row19\" class=\"row_heading level0 row19\" >19</th>\n",
       "      <td id=\"T_d7218_row19_col0\" class=\"data row19 col0\" >charact</td>\n",
       "      <td id=\"T_d7218_row19_col1\" class=\"data row19 col1\" >6122</td>\n",
       "    </tr>\n",
       "  </tbody>\n",
       "</table>\n"
      ],
      "text/plain": [
       "<pandas.io.formats.style.Styler at 0x1f1e41c3070>"
      ]
     },
     "execution_count": 177,
     "metadata": {},
     "output_type": "execute_result"
    }
   ],
   "source": [
    "top = Counter([item for sublist in video['text'] for item in sublist])\n",
    "temp = pd.DataFrame(top.most_common(20))\n",
    "temp.columns = ['Common_words_video_categotry','count']\n",
    "temp.style.background_gradient(cmap='Blues')"
   ]
  },
  {
   "cell_type": "code",
   "execution_count": 194,
   "id": "84b0d8de",
   "metadata": {},
   "outputs": [
    {
     "data": {
      "text/plain": [
       "<AxesSubplot:xlabel='count', ylabel='Common_words_video_categotry'>"
      ]
     },
     "execution_count": 194,
     "metadata": {},
     "output_type": "execute_result"
    },
    {
     "data": {
      "image/png": "[encoded data removed]",
      "text/plain": [
       "<Figure size 864x864 with 1 Axes>"
      ]
     },
     "metadata": {
      "needs_background": "light"
     },
     "output_type": "display_data"
    }
   ],
   "source": [
    "plt.figure(figsize=(12,12))\n",
    "sns.barplot(temp['count'],temp['Common_words_video_categotry'])"
   ]
  },
  {
   "cell_type": "markdown",
   "id": "2aac3222",
   "metadata": {},
   "source": [
    "# Common words for music product category"
   ]
  },
  {
   "cell_type": "code",
   "execution_count": 196,
   "id": "fe50cb58",
   "metadata": {},
   "outputs": [],
   "source": [
    "music=df[df['product_category']=='musical_instruments']"
   ]
  },
  {
   "cell_type": "code",
   "execution_count": 197,
   "id": "ae6ded13",
   "metadata": {},
   "outputs": [
    {
     "data": {
      "text/html": [
       "<style type=\"text/css\">\n",
       "#T_5094d_row0_col1 {\n",
       "  background-color: #08306b;\n",
       "  color: #f1f1f1;\n",
       "}\n",
       "#T_5094d_row1_col1 {\n",
       "  background-color: #084082;\n",
       "  color: #f1f1f1;\n",
       "}\n",
       "#T_5094d_row2_col1 {\n",
       "  background-color: #3282be;\n",
       "  color: #f1f1f1;\n",
       "}\n",
       "#T_5094d_row3_col1 {\n",
       "  background-color: #4493c7;\n",
       "  color: #f1f1f1;\n",
       "}\n",
       "#T_5094d_row4_col1 {\n",
       "  background-color: #4896c8;\n",
       "  color: #f1f1f1;\n",
       "}\n",
       "#T_5094d_row5_col1 {\n",
       "  background-color: #7ab6d9;\n",
       "  color: #000000;\n",
       "}\n",
       "#T_5094d_row6_col1 {\n",
       "  background-color: #8cc0dd;\n",
       "  color: #000000;\n",
       "}\n",
       "#T_5094d_row7_col1 {\n",
       "  background-color: #99c7e0;\n",
       "  color: #000000;\n",
       "}\n",
       "#T_5094d_row8_col1 {\n",
       "  background-color: #b7d4ea;\n",
       "  color: #000000;\n",
       "}\n",
       "#T_5094d_row9_col1 {\n",
       "  background-color: #caddf0;\n",
       "  color: #000000;\n",
       "}\n",
       "#T_5094d_row10_col1 {\n",
       "  background-color: #d1e2f3;\n",
       "  color: #000000;\n",
       "}\n",
       "#T_5094d_row11_col1 {\n",
       "  background-color: #d2e3f3;\n",
       "  color: #000000;\n",
       "}\n",
       "#T_5094d_row12_col1, #T_5094d_row13_col1 {\n",
       "  background-color: #deebf7;\n",
       "  color: #000000;\n",
       "}\n",
       "#T_5094d_row14_col1 {\n",
       "  background-color: #dfecf7;\n",
       "  color: #000000;\n",
       "}\n",
       "#T_5094d_row15_col1 {\n",
       "  background-color: #e7f1fa;\n",
       "  color: #000000;\n",
       "}\n",
       "#T_5094d_row16_col1 {\n",
       "  background-color: #ecf4fb;\n",
       "  color: #000000;\n",
       "}\n",
       "#T_5094d_row17_col1 {\n",
       "  background-color: #edf4fc;\n",
       "  color: #000000;\n",
       "}\n",
       "#T_5094d_row18_col1 {\n",
       "  background-color: #f6faff;\n",
       "  color: #000000;\n",
       "}\n",
       "#T_5094d_row19_col1 {\n",
       "  background-color: #f7fbff;\n",
       "  color: #000000;\n",
       "}\n",
       "</style>\n",
       "<table id=\"T_5094d_\">\n",
       "  <thead>\n",
       "    <tr>\n",
       "      <th class=\"blank level0\" >&nbsp;</th>\n",
       "      <th class=\"col_heading level0 col0\" >Common_words_music_categotry</th>\n",
       "      <th class=\"col_heading level0 col1\" >count</th>\n",
       "    </tr>\n",
       "  </thead>\n",
       "  <tbody>\n",
       "    <tr>\n",
       "      <th id=\"T_5094d_level0_row0\" class=\"row_heading level0 row0\" >0</th>\n",
       "      <td id=\"T_5094d_row0_col0\" class=\"data row0 col0\" >u</td>\n",
       "      <td id=\"T_5094d_row0_col1\" class=\"data row0 col1\" >5467</td>\n",
       "    </tr>\n",
       "    <tr>\n",
       "      <th id=\"T_5094d_level0_row1\" class=\"row_heading level0 row1\" >1</th>\n",
       "      <td id=\"T_5094d_row1_col0\" class=\"data row1 col0\" >gre</td>\n",
       "      <td id=\"T_5094d_row1_col1\" class=\"data row1 col1\" >5238</td>\n",
       "    </tr>\n",
       "    <tr>\n",
       "      <th id=\"T_5094d_level0_row2\" class=\"row_heading level0 row2\" >2</th>\n",
       "      <td id=\"T_5094d_row2_col0\" class=\"data row2 col0\" >sound</td>\n",
       "      <td id=\"T_5094d_row2_col1\" class=\"data row2 col1\" >4279</td>\n",
       "    </tr>\n",
       "    <tr>\n",
       "      <th id=\"T_5094d_level0_row3\" class=\"row_heading level0 row3\" >3</th>\n",
       "      <td id=\"T_5094d_row3_col0\" class=\"data row3 col0\" >guit</td>\n",
       "      <td id=\"T_5094d_row3_col1\" class=\"data row3 col1\" >4037</td>\n",
       "    </tr>\n",
       "    <tr>\n",
       "      <th id=\"T_5094d_level0_row4\" class=\"row_heading level0 row4\" >4</th>\n",
       "      <td id=\"T_5094d_row4_col0\" class=\"data row4 col0\" >good</td>\n",
       "      <td id=\"T_5094d_row4_col1\" class=\"data row4 col1\" >3996</td>\n",
       "    </tr>\n",
       "    <tr>\n",
       "      <th id=\"T_5094d_level0_row5\" class=\"row_heading level0 row5\" >5</th>\n",
       "      <td id=\"T_5094d_row5_col0\" class=\"data row5 col0\" >work</td>\n",
       "      <td id=\"T_5094d_row5_col1\" class=\"data row5 col1\" >3440</td>\n",
       "    </tr>\n",
       "    <tr>\n",
       "      <th id=\"T_5094d_level0_row6\" class=\"row_heading level0 row6\" >6</th>\n",
       "      <td id=\"T_5094d_row6_col0\" class=\"data row6 col0\" >on</td>\n",
       "      <td id=\"T_5094d_row6_col1\" class=\"data row6 col1\" >3278</td>\n",
       "    </tr>\n",
       "    <tr>\n",
       "      <th id=\"T_5094d_level0_row7\" class=\"row_heading level0 row7\" >7</th>\n",
       "      <td id=\"T_5094d_row7_col0\" class=\"data row7 col0\" >lik</td>\n",
       "      <td id=\"T_5094d_row7_col1\" class=\"data row7 col1\" >3167</td>\n",
       "    </tr>\n",
       "    <tr>\n",
       "      <th id=\"T_5094d_level0_row8\" class=\"row_heading level0 row8\" >8</th>\n",
       "      <td id=\"T_5094d_row8_col0\" class=\"data row8 col0\" >string</td>\n",
       "      <td id=\"T_5094d_row8_col1\" class=\"data row8 col1\" >2825</td>\n",
       "    </tr>\n",
       "    <tr>\n",
       "      <th id=\"T_5094d_level0_row9\" class=\"row_heading level0 row9\" >9</th>\n",
       "      <td id=\"T_5094d_row9_col0\" class=\"data row9 col0\" >play</td>\n",
       "      <td id=\"T_5094d_row9_col1\" class=\"data row9 col1\" >2576</td>\n",
       "    </tr>\n",
       "    <tr>\n",
       "      <th id=\"T_5094d_level0_row10\" class=\"row_heading level0 row10\" >10</th>\n",
       "      <td id=\"T_5094d_row10_col0\" class=\"data row10 col0\" >get</td>\n",
       "      <td id=\"T_5094d_row10_col1\" class=\"data row10 col1\" >2427</td>\n",
       "    </tr>\n",
       "    <tr>\n",
       "      <th id=\"T_5094d_level0_row11\" class=\"row_heading level0 row11\" >11</th>\n",
       "      <td id=\"T_5094d_row11_col0\" class=\"data row11 col0\" >wel</td>\n",
       "      <td id=\"T_5094d_row11_col1\" class=\"data row11 col1\" >2420</td>\n",
       "    </tr>\n",
       "    <tr>\n",
       "      <th id=\"T_5094d_level0_row12\" class=\"row_heading level0 row12\" >12</th>\n",
       "      <td id=\"T_5094d_row12_col0\" class=\"data row12 col0\" >pric</td>\n",
       "      <td id=\"T_5094d_row12_col1\" class=\"data row12 col1\" >2180</td>\n",
       "    </tr>\n",
       "    <tr>\n",
       "      <th id=\"T_5094d_level0_row13\" class=\"row_heading level0 row13\" >13</th>\n",
       "      <td id=\"T_5094d_row13_col0\" class=\"data row13 col0\" >real</td>\n",
       "      <td id=\"T_5094d_row13_col1\" class=\"data row13 col1\" >2174</td>\n",
       "    </tr>\n",
       "    <tr>\n",
       "      <th id=\"T_5094d_level0_row14\" class=\"row_heading level0 row14\" >14</th>\n",
       "      <td id=\"T_5094d_row14_col0\" class=\"data row14 col0\" >nic</td>\n",
       "      <td id=\"T_5094d_row14_col1\" class=\"data row14 col1\" >2153</td>\n",
       "    </tr>\n",
       "    <tr>\n",
       "      <th id=\"T_5094d_level0_row15\" class=\"row_heading level0 row15\" >15</th>\n",
       "      <td id=\"T_5094d_row15_col0\" class=\"data row15 col0\" >ped</td>\n",
       "      <td id=\"T_5094d_row15_col1\" class=\"data row15 col1\" >2005</td>\n",
       "    </tr>\n",
       "    <tr>\n",
       "      <th id=\"T_5094d_level0_row16\" class=\"row_heading level0 row16\" >16</th>\n",
       "      <td id=\"T_5094d_row16_col0\" class=\"data row16 col0\" >qual</td>\n",
       "      <td id=\"T_5094d_row16_col1\" class=\"data row16 col1\" >1912</td>\n",
       "    </tr>\n",
       "    <tr>\n",
       "      <th id=\"T_5094d_level0_row17\" class=\"row_heading level0 row17\" >17</th>\n",
       "      <td id=\"T_5094d_row17_col0\" class=\"data row17 col0\" >tun</td>\n",
       "      <td id=\"T_5094d_row17_col1\" class=\"data row17 col1\" >1904</td>\n",
       "    </tr>\n",
       "    <tr>\n",
       "      <th id=\"T_5094d_level0_row18\" class=\"row_heading level0 row18\" >18</th>\n",
       "      <td id=\"T_5094d_row18_col0\" class=\"data row18 col0\" >easy</td>\n",
       "      <td id=\"T_5094d_row18_col1\" class=\"data row18 col1\" >1718</td>\n",
       "    </tr>\n",
       "    <tr>\n",
       "      <th id=\"T_5094d_level0_row19\" class=\"row_heading level0 row19\" >19</th>\n",
       "      <td id=\"T_5094d_row19_col0\" class=\"data row19 col0\" >would</td>\n",
       "      <td id=\"T_5094d_row19_col1\" class=\"data row19 col1\" >1703</td>\n",
       "    </tr>\n",
       "  </tbody>\n",
       "</table>\n"
      ],
      "text/plain": [
       "<pandas.io.formats.style.Styler at 0x1f1e458b070>"
      ]
     },
     "execution_count": 197,
     "metadata": {},
     "output_type": "execute_result"
    }
   ],
   "source": [
    "top2 = Counter([item for sublist in music['text'] for item in sublist])\n",
    "temp2 = pd.DataFrame(top2.most_common(20))\n",
    "temp2.columns = ['Common_words_music_categotry','count']\n",
    "temp2.style.background_gradient(cmap='Blues')"
   ]
  },
  {
   "cell_type": "code",
   "execution_count": 199,
   "id": "4914f28f",
   "metadata": {},
   "outputs": [
    {
     "data": {
      "text/plain": [
       "<AxesSubplot:xlabel='count', ylabel='Common_words_music_categotry'>"
      ]
     },
     "execution_count": 199,
     "metadata": {},
     "output_type": "execute_result"
    },
    {
     "data": {
      "image/png": "[encoded data removed]",
      "text/plain": [
       "<Figure size 864x864 with 1 Axes>"
      ]
     },
     "metadata": {
      "needs_background": "light"
     },
     "output_type": "display_data"
    }
   ],
   "source": [
    "plt.figure(figsize=(12,12))\n",
    "sns.barplot(temp2['count'],temp2['Common_words_music_categotry'])"
   ]
  },
  {
   "cell_type": "code",
   "execution_count": 134,
   "id": "2196d26a",
   "metadata": {},
   "outputs": [],
   "source": [
    "l=[]\n",
    "for i in df['text']:\n",
    "    str1 = \" \" \n",
    "    t=str1.join(i)\n",
    "    l.append(t)\n",
    "df['text']=l   "
   ]
  },
  {
   "cell_type": "markdown",
   "id": "96c9afbd",
   "metadata": {},
   "source": [
    "# 1:Product cagegory prediction"
   ]
  },
  {
   "cell_type": "markdown",
   "id": "60f0e6d1",
   "metadata": {},
   "source": [
    "# #Converting Tweet feature into a vector using Bag of words technique"
   ]
  },
  {
   "cell_type": "code",
   "execution_count": 33,
   "id": "c877b3b7",
   "metadata": {},
   "outputs": [],
   "source": [
    " #Converting Tweet feature into a vector using Bag of words technique\n",
    "from sklearn.feature_extraction.text import CountVectorizer\n",
    "vectorizer = CountVectorizer()\n",
    "X = vectorizer.fit_transform(df['text'])\n",
    "b=vectorizer.get_feature_names()\n",
    "  \n",
    "  \n",
    " "
   ]
  },
  {
   "cell_type": "code",
   "execution_count": 34,
   "id": "9a14c239",
   "metadata": {},
   "outputs": [],
   "source": [
    "from mlxtend.feature_selection import SequentialFeatureSelector as SFS\n",
    "from sklearn.linear_model import LogisticRegression"
   ]
  },
  {
   "cell_type": "code",
   "execution_count": 35,
   "id": "af3c7d65",
   "metadata": {},
   "outputs": [
    {
     "data": {
      "text/html": [
       "<div>\n",
       "<style scoped>\n",
       "    .dataframe tbody tr th:only-of-type {\n",
       "        vertical-align: middle;\n",
       "    }\n",
       "\n",
       "    .dataframe tbody tr th {\n",
       "        vertical-align: top;\n",
       "    }\n",
       "\n",
       "    .dataframe thead th {\n",
       "        text-align: right;\n",
       "    }\n",
       "</style>\n",
       "<table border=\"1\" class=\"dataframe\">\n",
       "  <thead>\n",
       "    <tr style=\"text-align: right;\">\n",
       "      <th></th>\n",
       "      <th>review_id</th>\n",
       "      <th>text</th>\n",
       "      <th>verified</th>\n",
       "      <th>review_score</th>\n",
       "      <th>product_category</th>\n",
       "    </tr>\n",
       "  </thead>\n",
       "  <tbody>\n",
       "    <tr>\n",
       "      <th>0</th>\n",
       "      <td>product_review_000000</td>\n",
       "      <td>receiv cop new vert igt slot gam almost masqu ...</td>\n",
       "      <td>True</td>\n",
       "      <td>3.0</td>\n",
       "      <td>video_games</td>\n",
       "    </tr>\n",
       "    <tr>\n",
       "      <th>1</th>\n",
       "      <td>product_review_000001</td>\n",
       "      <td>ev sint purchas d first releas knew would glad...</td>\n",
       "      <td>False</td>\n",
       "      <td>5.0</td>\n",
       "      <td>video_games</td>\n",
       "    </tr>\n",
       "    <tr>\n",
       "      <th>2</th>\n",
       "      <td>product_review_000002</td>\n",
       "      <td>simpl bit goe long way</td>\n",
       "      <td>True</td>\n",
       "      <td>5.0</td>\n",
       "      <td>musical_instruments</td>\n",
       "    </tr>\n",
       "    <tr>\n",
       "      <th>3</th>\n",
       "      <td>product_review_000003</td>\n",
       "      <td>play gam katamar sery own consol howev quit in...</td>\n",
       "      <td>True</td>\n",
       "      <td>4.0</td>\n",
       "      <td>video_games</td>\n",
       "    </tr>\n",
       "    <tr>\n",
       "      <th>4</th>\n",
       "      <td>product_review_000004</td>\n",
       "      <td>got quick gre shap work fin problem lik kind g...</td>\n",
       "      <td>True</td>\n",
       "      <td>5.0</td>\n",
       "      <td>video_games</td>\n",
       "    </tr>\n",
       "    <tr>\n",
       "      <th>...</th>\n",
       "      <td>...</td>\n",
       "      <td>...</td>\n",
       "      <td>...</td>\n",
       "      <td>...</td>\n",
       "      <td>...</td>\n",
       "    </tr>\n",
       "    <tr>\n",
       "      <th>31875</th>\n",
       "      <td>product_review_032913</td>\n",
       "      <td>play skyrim two year start get let play video ...</td>\n",
       "      <td>False</td>\n",
       "      <td>-1.0</td>\n",
       "      <td>video_games</td>\n",
       "    </tr>\n",
       "    <tr>\n",
       "      <th>31876</th>\n",
       "      <td>product_review_032914</td>\n",
       "      <td>look overal best pga tour gam want someth pret...</td>\n",
       "      <td>True</td>\n",
       "      <td>5.0</td>\n",
       "      <td>video_games</td>\n",
       "    </tr>\n",
       "    <tr>\n",
       "      <th>31877</th>\n",
       "      <td>product_review_032915</td>\n",
       "      <td>anoth fig ad disney infin collect sup ad disne...</td>\n",
       "      <td>True</td>\n",
       "      <td>5.0</td>\n",
       "      <td>video_games</td>\n",
       "    </tr>\n",
       "    <tr>\n",
       "      <th>31878</th>\n",
       "      <td>product_review_032916</td>\n",
       "      <td>anoth glad find look look glad fin find littl ...</td>\n",
       "      <td>True</td>\n",
       "      <td>5.0</td>\n",
       "      <td>video_games</td>\n",
       "    </tr>\n",
       "    <tr>\n",
       "      <th>31879</th>\n",
       "      <td>product_review_032917</td>\n",
       "      <td>lik gam</td>\n",
       "      <td>True</td>\n",
       "      <td>4.0</td>\n",
       "      <td>video_games</td>\n",
       "    </tr>\n",
       "  </tbody>\n",
       "</table>\n",
       "<p>31880 rows × 5 columns</p>\n",
       "</div>"
      ],
      "text/plain": [
       "                   review_id  \\\n",
       "0      product_review_000000   \n",
       "1      product_review_000001   \n",
       "2      product_review_000002   \n",
       "3      product_review_000003   \n",
       "4      product_review_000004   \n",
       "...                      ...   \n",
       "31875  product_review_032913   \n",
       "31876  product_review_032914   \n",
       "31877  product_review_032915   \n",
       "31878  product_review_032916   \n",
       "31879  product_review_032917   \n",
       "\n",
       "                                                    text verified  \\\n",
       "0      receiv cop new vert igt slot gam almost masqu ...     True   \n",
       "1      ev sint purchas d first releas knew would glad...    False   \n",
       "2                                 simpl bit goe long way     True   \n",
       "3      play gam katamar sery own consol howev quit in...     True   \n",
       "4      got quick gre shap work fin problem lik kind g...     True   \n",
       "...                                                  ...      ...   \n",
       "31875  play skyrim two year start get let play video ...    False   \n",
       "31876  look overal best pga tour gam want someth pret...     True   \n",
       "31877  anoth fig ad disney infin collect sup ad disne...     True   \n",
       "31878  anoth glad find look look glad fin find littl ...     True   \n",
       "31879                                            lik gam     True   \n",
       "\n",
       "       review_score     product_category  \n",
       "0               3.0          video_games  \n",
       "1               5.0          video_games  \n",
       "2               5.0  musical_instruments  \n",
       "3               4.0          video_games  \n",
       "4               5.0          video_games  \n",
       "...             ...                  ...  \n",
       "31875          -1.0          video_games  \n",
       "31876           5.0          video_games  \n",
       "31877           5.0          video_games  \n",
       "31878           5.0          video_games  \n",
       "31879           4.0          video_games  \n",
       "\n",
       "[31880 rows x 5 columns]"
      ]
     },
     "execution_count": 35,
     "metadata": {},
     "output_type": "execute_result"
    }
   ],
   "source": [
    "df"
   ]
  },
  {
   "cell_type": "code",
   "execution_count": 36,
   "id": "00a8b17f",
   "metadata": {},
   "outputs": [],
   "source": [
    "ddf=df.drop(['text','review_id'],axis=1)"
   ]
  },
  {
   "cell_type": "markdown",
   "id": "d03968d6",
   "metadata": {},
   "source": [
    "# #creating a dataframe of the array which was converted into a vector and concatinating it with other features"
   ]
  },
  {
   "cell_type": "code",
   "execution_count": 37,
   "id": "ac8d64be",
   "metadata": {
    "scrolled": true
   },
   "outputs": [],
   "source": [
    " #creating a dataframe of the array which was converted into a vector and concatinating it with other features\n",
    "df1 = pd.DataFrame(X.toarray(), columns=vectorizer.get_feature_names())\n",
    "res = pd.concat([df1, ddf], axis=1)"
   ]
  },
  {
   "cell_type": "markdown",
   "id": "1fa360cb",
   "metadata": {},
   "source": [
    "# Encoding categorical features"
   ]
  },
  {
   "cell_type": "code",
   "execution_count": 38,
   "id": "ee5f834d",
   "metadata": {},
   "outputs": [],
   "source": [
    "a=df.select_dtypes(include='object')"
   ]
  },
  {
   "cell_type": "code",
   "execution_count": 39,
   "id": "8db0d84c",
   "metadata": {},
   "outputs": [],
   "source": [
    "from sklearn import preprocessing\n",
    "le = preprocessing.LabelEncoder()\n",
    "df['product_category']=le.fit_transform(df['product_category'])"
   ]
  },
  {
   "cell_type": "markdown",
   "id": "6c41a4c0",
   "metadata": {},
   "source": [
    "# defining inputs and outputs as X and y respectively"
   ]
  },
  {
   "cell_type": "code",
   "execution_count": 40,
   "id": "0abefb67",
   "metadata": {},
   "outputs": [],
   "source": [
    "X=df1\n",
    "y=df['product_category']"
   ]
  },
  {
   "cell_type": "code",
   "execution_count": 41,
   "id": "1837ae49",
   "metadata": {},
   "outputs": [],
   "source": [
    "from sklearn.model_selection import train_test_split\n",
    "from sklearn.metrics import recall_score\n",
    "from sklearn.metrics import accuracy_score\n",
    "from sklearn.metrics import precision_score\n",
    "X_train, X_test, y_train, y_test = train_test_split(X,y, test_size=0.20, random_state=42)"
   ]
  },
  {
   "cell_type": "code",
   "execution_count": 42,
   "id": "cbab8e0f",
   "metadata": {},
   "outputs": [],
   "source": [
    "\n",
    "from sklearn.tree import DecisionTreeClassifier\n"
   ]
  },
  {
   "cell_type": "code",
   "execution_count": 43,
   "id": "e62af272",
   "metadata": {},
   "outputs": [],
   "source": [
    "import seaborn as sns"
   ]
  },
  {
   "cell_type": "code",
   "execution_count": 44,
   "id": "30cad0be",
   "metadata": {},
   "outputs": [
    {
     "data": {
      "text/plain": [
       "<AxesSubplot:>"
      ]
     },
     "execution_count": 44,
     "metadata": {},
     "output_type": "execute_result"
    },
    {
     "data": {
      "image/png": "[encoded data removed]",
      "text/plain": [
       "<Figure size 432x288 with 2 Axes>"
      ]
     },
     "metadata": {
      "needs_background": "light"
     },
     "output_type": "display_data"
    }
   ],
   "source": [
    "from sklearn.metrics import confusion_matrix\n",
    "\n",
    "dt =DecisionTreeClassifier(random_state=10000)\n",
    "dt.fit(X_train, y_train)\n",
    "y_predict_dt = dt.predict(X_test)\n",
    "y_predict_dt_train = dt.predict(X_train)\n",
    "# confusion_matrix\n",
    "cm = confusion_matrix(y_test, y_predict_dt)\n",
    "sns.heatmap(cm, annot=True, fmt=\"d\")\n"
   ]
  },
  {
   "cell_type": "code",
   "execution_count": 45,
   "id": "fc7deeef",
   "metadata": {},
   "outputs": [
    {
     "name": "stdout",
     "output_type": "stream",
     "text": [
      "train accuracy 0.9955301129234629\n",
      "test accuracy 0.9027603513174404\n",
      "precision 0.8897245180578157\n",
      "recall 0.8887525475842907\n"
     ]
    }
   ],
   "source": [
    "print('train accuracy',accuracy_score((y_train), y_predict_dt_train))\n",
    "print('test accuracy',accuracy_score((y_test), y_predict_dt))\n",
    "print('precision',precision_score(y_test, y_predict_dt, average='macro'))\n",
    "print('recall',recall_score(y_test, y_predict_dt, average='macro'))"
   ]
  },
  {
   "cell_type": "code",
   "execution_count": 46,
   "id": "e89b8495",
   "metadata": {},
   "outputs": [
    {
     "name": "stdout",
     "output_type": "stream",
     "text": [
      "              precision    recall  f1-score   support\n",
      "\n",
      "           0       0.85      0.85      0.85      2079\n",
      "           1       0.93      0.93      0.93      4297\n",
      "\n",
      "    accuracy                           0.90      6376\n",
      "   macro avg       0.89      0.89      0.89      6376\n",
      "weighted avg       0.90      0.90      0.90      6376\n",
      "\n"
     ]
    }
   ],
   "source": [
    "print(classification_report(y_test, y_predict_dt))"
   ]
  },
  {
   "cell_type": "code",
   "execution_count": 47,
   "id": "65c707e2",
   "metadata": {},
   "outputs": [
    {
     "data": {
      "text/plain": [
       "<AxesSubplot:>"
      ]
     },
     "execution_count": 47,
     "metadata": {},
     "output_type": "execute_result"
    },
    {
     "data": {
      "image/png": "[encoded data removed]",
      "text/plain": [
       "<Figure size 432x288 with 2 Axes>"
      ]
     },
     "metadata": {
      "needs_background": "light"
     },
     "output_type": "display_data"
    }
   ],
   "source": [
    "from sklearn.ensemble import RandomForestClassifier\n",
    "rf =RandomForestClassifier(random_state=10000) \n",
    "rf.fit(X_train, y_train)\n",
    "y_predict_rf = rf.predict(X_test)\n",
    "y_predict_rf_train = rf.predict(X_train)\n",
    "# confusion_matrix\n",
    "cm = confusion_matrix(y_test, y_predict_rf)\n",
    "sns.heatmap(cm, annot=True, fmt=\"d\")"
   ]
  },
  {
   "cell_type": "code",
   "execution_count": 48,
   "id": "e63f67e4",
   "metadata": {},
   "outputs": [
    {
     "name": "stdout",
     "output_type": "stream",
     "text": [
      " train accuracy 0.9955301129234629\n",
      " test accuracy 0.9316185696361355\n",
      "precision 0.9392491467576792\n",
      "recall 0.9606702350477077\n"
     ]
    }
   ],
   "source": [
    "print(' train accuracy',accuracy_score((y_train), y_predict_rf_train))\n",
    "print(' test accuracy',accuracy_score((y_test), y_predict_rf))\n",
    "print('precision',precision_score(y_test, y_predict_rf))\n",
    "print('recall',recall_score(y_test, y_predict_rf))"
   ]
  },
  {
   "cell_type": "code",
   "execution_count": 49,
   "id": "0f5f2628",
   "metadata": {},
   "outputs": [
    {
     "name": "stdout",
     "output_type": "stream",
     "text": [
      "              precision    recall  f1-score   support\n",
      "\n",
      "           0       0.91      0.87      0.89      2079\n",
      "           1       0.94      0.96      0.95      4297\n",
      "\n",
      "    accuracy                           0.93      6376\n",
      "   macro avg       0.93      0.92      0.92      6376\n",
      "weighted avg       0.93      0.93      0.93      6376\n",
      "\n"
     ]
    }
   ],
   "source": [
    "print(classification_report(y_test, y_predict_rf))"
   ]
  },
  {
   "cell_type": "code",
   "execution_count": 50,
   "id": "0c43aec1",
   "metadata": {},
   "outputs": [
    {
     "data": {
      "image/png": "[encoded data removed]",
      "text/plain": [
       "<Figure size 720x720 with 1 Axes>"
      ]
     },
     "metadata": {
      "needs_background": "light"
     },
     "output_type": "display_data"
    }
   ],
   "source": [
    "### Compute ROC curve and ROC area for predictions on validation set\n",
    "from sklearn.metrics import roc_curve, auc\n",
    "\n",
    "### Plot\n",
    "plt.figure(figsize=(10,10))\n",
    "lw = 2\n",
    "\n",
    "fpr_rf, tpr_rf, _ = roc_curve(y_test, y_predict_rf)\n",
    "roc_auc_rf = auc(fpr_rf, tpr_rf)\n",
    "plt.plot(fpr_rf, tpr_rf, color='blue',\n",
    "         lw=lw, label='Random Forest (area = %0.2f)' % roc_auc_rf)\n",
    "fpr_dt, tpr_dt, _ = roc_curve(y_test, y_predict_dt)\n",
    "roc_auc_dt = auc(fpr_dt, tpr_dt)\n",
    "plt.plot(fpr_dt, tpr_dt, color='green',\n",
    "         lw=lw, label='Decision Tree (area = %0.2f)' % roc_auc_dt)\n",
    "\n",
    "plt.plot([0, 1], [0, 1], color='navy', lw=lw, linestyle='--')\n",
    "plt.xlim([0.0, 1.0])\n",
    "plt.ylim([0.0, 1.05])\n",
    "plt.xlabel('False Positive Rate')\n",
    "plt.ylabel('True Positive Rate')\n",
    "plt.title('Receiver operating characteristic example')\n",
    "plt.legend(loc=\"lower right\")\n",
    "plt.show()"
   ]
  },
  {
   "cell_type": "markdown",
   "id": "8daa602c",
   "metadata": {},
   "source": [
    "# 2:review_score prediction"
   ]
  },
  {
   "cell_type": "code",
   "execution_count": 53,
   "id": "30f25c29",
   "metadata": {},
   "outputs": [],
   "source": [
    "vectorizer2 = CountVectorizer(max_features=2500)\n",
    "X2 = vectorizer2.fit_transform(df['text'])\n",
    "b2=vectorizer2.get_feature_names()\n",
    "  \n",
    "  "
   ]
  },
  {
   "cell_type": "code",
   "execution_count": 55,
   "id": "5361c230",
   "metadata": {},
   "outputs": [],
   "source": [
    " #creating a dataframe of the array which was converted into a vector and concatinating it with other features\n",
    "df2 = pd.DataFrame(X2.toarray(), columns=vectorizer2.get_feature_names())"
   ]
  },
  {
   "cell_type": "code",
   "execution_count": 56,
   "id": "b6a7da9b",
   "metadata": {},
   "outputs": [],
   "source": [
    "X2=df2\n",
    "y2=df[['review_score']]"
   ]
  },
  {
   "cell_type": "code",
   "execution_count": 58,
   "id": "874a13d0",
   "metadata": {},
   "outputs": [
    {
     "name": "stdout",
     "output_type": "stream",
     "text": [
      "Counter({'review_score': 1})\n",
      "Counter({'review_score': 1})\n"
     ]
    }
   ],
   "source": [
    "from collections import Counter\n",
    "from imblearn.pipeline import Pipeline\n",
    "from imblearn.over_sampling import RandomOverSampler\n",
    "from imblearn.under_sampling import RandomUnderSampler\n",
    "# summarize class distribution\n",
    "print(Counter(y2))\n",
    "# define resampling\n",
    "# transform the dataset\n",
    "strategy = {5.0:18681, 4.0:10000,3.0:10000,2.0:9000,1.0:8500,-1.0:8000}\n",
    "over = RandomOverSampler(sampling_strategy=strategy)\n",
    "# define pipeline\n",
    "pipeline = Pipeline(steps=[('o', over)])\n",
    "X2, y2 = pipeline.fit_resample(X2, y2)\n",
    "# summarize class distribution\n",
    "print(Counter(y2))"
   ]
  },
  {
   "cell_type": "code",
   "execution_count": 59,
   "id": "a053b8c2",
   "metadata": {},
   "outputs": [],
   "source": [
    "from sklearn.preprocessing import StandardScaler\n",
    "scaler = StandardScaler()\n",
    "X2 = scaler.fit_transform(X2)"
   ]
  },
  {
   "cell_type": "code",
   "execution_count": 60,
   "id": "455d70f9",
   "metadata": {},
   "outputs": [],
   "source": [
    "\n",
    "X_train2, X_test2, y_train2, y_test2 = train_test_split(X2,y2, test_size=0.33, random_state=42)"
   ]
  },
  {
   "cell_type": "code",
   "execution_count": 61,
   "id": "fcb231af",
   "metadata": {},
   "outputs": [
    {
     "data": {
      "text/plain": [
       "<AxesSubplot:>"
      ]
     },
     "execution_count": 61,
     "metadata": {},
     "output_type": "execute_result"
    },
    {
     "data": {
      "image/png": "[encoded data removed]",
      "text/plain": [
       "<Figure size 720x720 with 2 Axes>"
      ]
     },
     "metadata": {
      "needs_background": "light"
     },
     "output_type": "display_data"
    }
   ],
   "source": [
    "dt2 =DecisionTreeClassifier(random_state=1024)\n",
    "dt2.fit(X_train2, y_train2)\n",
    "y_predict_dt2 = dt2.predict(X_test2)\n",
    "# confusion_matrix\n",
    "cm = confusion_matrix(y_test2, y_predict_dt2)\n",
    "plt.figure(figsize=(10,10))\n",
    "sns.heatmap(cm, annot=True, fmt=\"d\")\n"
   ]
  },
  {
   "cell_type": "code",
   "execution_count": 62,
   "id": "84a07677",
   "metadata": {},
   "outputs": [
    {
     "name": "stdout",
     "output_type": "stream",
     "text": [
      "accuracy 0.7997639282341832\n",
      "precision 0.7991872358765787\n",
      "recall 0.8366838310546162\n"
     ]
    }
   ],
   "source": [
    "print('accuracy',accuracy_score((y_test2), y_predict_dt2))\n",
    "print('precision',precision_score(y_test2, y_predict_dt2, average='macro'))\n",
    "print('recall',recall_score(y_test2, y_predict_dt2, average='macro'))"
   ]
  },
  {
   "cell_type": "code",
   "execution_count": 64,
   "id": "046b1abf",
   "metadata": {},
   "outputs": [
    {
     "data": {
      "text/plain": [
       "<AxesSubplot:>"
      ]
     },
     "execution_count": 64,
     "metadata": {},
     "output_type": "execute_result"
    },
    {
     "data": {
      "image/png": "[encoded data removed]",
      "text/plain": [
       "<Figure size 720x720 with 2 Axes>"
      ]
     },
     "metadata": {
      "needs_background": "light"
     },
     "output_type": "display_data"
    }
   ],
   "source": [
    "rf2 =RandomForestClassifier(random_state=1000) \n",
    "rf2.fit(X_train2, y_train2)\n",
    "y_predict_rf2 = rf2.predict(X_test2)\n",
    "# confusion_matrix\n",
    "cm = confusion_matrix(y_test2, y_predict_rf2)\n",
    "plt.figure(figsize=(10,10))\n",
    "sns.heatmap(cm, annot=True, fmt=\"d\")"
   ]
  },
  {
   "cell_type": "code",
   "execution_count": 65,
   "id": "cbd0c154",
   "metadata": {},
   "outputs": [
    {
     "name": "stdout",
     "output_type": "stream",
     "text": [
      "accuracy 0.8680358829084042\n",
      "precision 0.881759047466947\n",
      "recall 0.8734135711947347\n"
     ]
    }
   ],
   "source": [
    "print('accuracy',accuracy_score((y_test2), y_predict_rf2))\n",
    "print('precision',precision_score(y_test2, y_predict_rf2, average='macro'))\n",
    "print('recall',recall_score(y_test2, y_predict_rf2, average='macro'))"
   ]
  },
  {
   "cell_type": "code",
   "execution_count": null,
   "id": "dccf86bc",
   "metadata": {},
   "outputs": [],
   "source": []
  },
  {
   "cell_type": "code",
   "execution_count": null,
   "id": "af44ddae",
   "metadata": {},
   "outputs": [],
   "source": []
  }
 ],
 "metadata": {
  "kernelspec": {
   "display_name": "Python 3 (ipykernel)",
   "language": "python",
   "name": "python3"
  },
  "language_info": {
   "codemirror_mode": {
    "name": "ipython",
    "version": 3
   },
   "file_extension": ".py",
   "mimetype": "text/x-python",
   "name": "python",
   "nbconvert_exporter": "python",
   "pygments_lexer": "ipython3",
   "version": "3.9.7"
  }
 },
 "nbformat": 4,
 "nbformat_minor": 5
}
